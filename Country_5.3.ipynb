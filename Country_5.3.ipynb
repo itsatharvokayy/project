{
 "cells": [
  {
   "cell_type": "code",
   "execution_count": 179,
   "id": "197d41df",
   "metadata": {},
   "outputs": [],
   "source": [
    "import pandas as pd\n",
    "import numpy as np\n",
    "import matplotlib.pyplot as plt\n",
    "import seaborn as sns"
   ]
  },
  {
   "cell_type": "code",
   "execution_count": 180,
   "id": "05f031e4",
   "metadata": {},
   "outputs": [],
   "source": [
    "cd=pd.read_csv(\"C:\\\\Users\\\\rabhi\\\\OneDrive\\\\Documents\\\\Country-data.csv\")\n",
    "cd1=pd.read_csv(\"C:\\\\Users\\\\rabhi\\\\OneDrive\\\\Documents\\\\Country-data.csv\")"
   ]
  },
  {
   "cell_type": "code",
   "execution_count": 181,
   "id": "f57ac557",
   "metadata": {},
   "outputs": [
    {
     "data": {
      "text/html": [
       "<div>\n",
       "<style scoped>\n",
       "    .dataframe tbody tr th:only-of-type {\n",
       "        vertical-align: middle;\n",
       "    }\n",
       "\n",
       "    .dataframe tbody tr th {\n",
       "        vertical-align: top;\n",
       "    }\n",
       "\n",
       "    .dataframe thead th {\n",
       "        text-align: right;\n",
       "    }\n",
       "</style>\n",
       "<table border=\"1\" class=\"dataframe\">\n",
       "  <thead>\n",
       "    <tr style=\"text-align: right;\">\n",
       "      <th></th>\n",
       "      <th>country</th>\n",
       "      <th>child_mort</th>\n",
       "      <th>exports</th>\n",
       "      <th>health</th>\n",
       "      <th>imports</th>\n",
       "      <th>income</th>\n",
       "      <th>inflation</th>\n",
       "      <th>life_expec</th>\n",
       "      <th>total_fer</th>\n",
       "      <th>gdpp</th>\n",
       "    </tr>\n",
       "  </thead>\n",
       "  <tbody>\n",
       "    <tr>\n",
       "      <th>0</th>\n",
       "      <td>Afghanistan</td>\n",
       "      <td>90.2</td>\n",
       "      <td>10.0</td>\n",
       "      <td>7.58</td>\n",
       "      <td>44.9</td>\n",
       "      <td>1610</td>\n",
       "      <td>9.440</td>\n",
       "      <td>56.2</td>\n",
       "      <td>5.82</td>\n",
       "      <td>553</td>\n",
       "    </tr>\n",
       "    <tr>\n",
       "      <th>1</th>\n",
       "      <td>Albania</td>\n",
       "      <td>16.6</td>\n",
       "      <td>28.0</td>\n",
       "      <td>6.55</td>\n",
       "      <td>48.6</td>\n",
       "      <td>9930</td>\n",
       "      <td>4.490</td>\n",
       "      <td>76.3</td>\n",
       "      <td>1.65</td>\n",
       "      <td>4090</td>\n",
       "    </tr>\n",
       "    <tr>\n",
       "      <th>2</th>\n",
       "      <td>Algeria</td>\n",
       "      <td>27.3</td>\n",
       "      <td>38.4</td>\n",
       "      <td>4.17</td>\n",
       "      <td>31.4</td>\n",
       "      <td>12900</td>\n",
       "      <td>16.100</td>\n",
       "      <td>76.5</td>\n",
       "      <td>2.89</td>\n",
       "      <td>4460</td>\n",
       "    </tr>\n",
       "    <tr>\n",
       "      <th>3</th>\n",
       "      <td>Angola</td>\n",
       "      <td>119.0</td>\n",
       "      <td>62.3</td>\n",
       "      <td>2.85</td>\n",
       "      <td>42.9</td>\n",
       "      <td>5900</td>\n",
       "      <td>22.400</td>\n",
       "      <td>60.1</td>\n",
       "      <td>6.16</td>\n",
       "      <td>3530</td>\n",
       "    </tr>\n",
       "    <tr>\n",
       "      <th>4</th>\n",
       "      <td>Antigua and Barbuda</td>\n",
       "      <td>10.3</td>\n",
       "      <td>45.5</td>\n",
       "      <td>6.03</td>\n",
       "      <td>58.9</td>\n",
       "      <td>19100</td>\n",
       "      <td>1.440</td>\n",
       "      <td>76.8</td>\n",
       "      <td>2.13</td>\n",
       "      <td>12200</td>\n",
       "    </tr>\n",
       "    <tr>\n",
       "      <th>5</th>\n",
       "      <td>Argentina</td>\n",
       "      <td>14.5</td>\n",
       "      <td>18.9</td>\n",
       "      <td>8.10</td>\n",
       "      <td>16.0</td>\n",
       "      <td>18700</td>\n",
       "      <td>20.900</td>\n",
       "      <td>75.8</td>\n",
       "      <td>2.37</td>\n",
       "      <td>10300</td>\n",
       "    </tr>\n",
       "    <tr>\n",
       "      <th>6</th>\n",
       "      <td>Armenia</td>\n",
       "      <td>18.1</td>\n",
       "      <td>20.8</td>\n",
       "      <td>4.40</td>\n",
       "      <td>45.3</td>\n",
       "      <td>6700</td>\n",
       "      <td>7.770</td>\n",
       "      <td>73.3</td>\n",
       "      <td>1.69</td>\n",
       "      <td>3220</td>\n",
       "    </tr>\n",
       "    <tr>\n",
       "      <th>7</th>\n",
       "      <td>Australia</td>\n",
       "      <td>4.8</td>\n",
       "      <td>19.8</td>\n",
       "      <td>8.73</td>\n",
       "      <td>20.9</td>\n",
       "      <td>41400</td>\n",
       "      <td>1.160</td>\n",
       "      <td>82.0</td>\n",
       "      <td>1.93</td>\n",
       "      <td>51900</td>\n",
       "    </tr>\n",
       "    <tr>\n",
       "      <th>8</th>\n",
       "      <td>Austria</td>\n",
       "      <td>4.3</td>\n",
       "      <td>51.3</td>\n",
       "      <td>11.00</td>\n",
       "      <td>47.8</td>\n",
       "      <td>43200</td>\n",
       "      <td>0.873</td>\n",
       "      <td>80.5</td>\n",
       "      <td>1.44</td>\n",
       "      <td>46900</td>\n",
       "    </tr>\n",
       "    <tr>\n",
       "      <th>9</th>\n",
       "      <td>Azerbaijan</td>\n",
       "      <td>39.2</td>\n",
       "      <td>54.3</td>\n",
       "      <td>5.88</td>\n",
       "      <td>20.7</td>\n",
       "      <td>16000</td>\n",
       "      <td>13.800</td>\n",
       "      <td>69.1</td>\n",
       "      <td>1.92</td>\n",
       "      <td>5840</td>\n",
       "    </tr>\n",
       "  </tbody>\n",
       "</table>\n",
       "</div>"
      ],
      "text/plain": [
       "               country  child_mort  exports  health  imports  income  \\\n",
       "0          Afghanistan        90.2     10.0    7.58     44.9    1610   \n",
       "1              Albania        16.6     28.0    6.55     48.6    9930   \n",
       "2              Algeria        27.3     38.4    4.17     31.4   12900   \n",
       "3               Angola       119.0     62.3    2.85     42.9    5900   \n",
       "4  Antigua and Barbuda        10.3     45.5    6.03     58.9   19100   \n",
       "5            Argentina        14.5     18.9    8.10     16.0   18700   \n",
       "6              Armenia        18.1     20.8    4.40     45.3    6700   \n",
       "7            Australia         4.8     19.8    8.73     20.9   41400   \n",
       "8              Austria         4.3     51.3   11.00     47.8   43200   \n",
       "9           Azerbaijan        39.2     54.3    5.88     20.7   16000   \n",
       "\n",
       "   inflation  life_expec  total_fer   gdpp  \n",
       "0      9.440        56.2       5.82    553  \n",
       "1      4.490        76.3       1.65   4090  \n",
       "2     16.100        76.5       2.89   4460  \n",
       "3     22.400        60.1       6.16   3530  \n",
       "4      1.440        76.8       2.13  12200  \n",
       "5     20.900        75.8       2.37  10300  \n",
       "6      7.770        73.3       1.69   3220  \n",
       "7      1.160        82.0       1.93  51900  \n",
       "8      0.873        80.5       1.44  46900  \n",
       "9     13.800        69.1       1.92   5840  "
      ]
     },
     "execution_count": 181,
     "metadata": {},
     "output_type": "execute_result"
    }
   ],
   "source": [
    "cd.head(10)"
   ]
  },
  {
   "cell_type": "code",
   "execution_count": 182,
   "id": "756780de",
   "metadata": {},
   "outputs": [
    {
     "name": "stdout",
     "output_type": "stream",
     "text": [
      "<class 'pandas.core.frame.DataFrame'>\n",
      "RangeIndex: 167 entries, 0 to 166\n",
      "Data columns (total 10 columns):\n",
      " #   Column      Non-Null Count  Dtype  \n",
      "---  ------      --------------  -----  \n",
      " 0   country     167 non-null    object \n",
      " 1   child_mort  167 non-null    float64\n",
      " 2   exports     167 non-null    float64\n",
      " 3   health      167 non-null    float64\n",
      " 4   imports     167 non-null    float64\n",
      " 5   income      167 non-null    int64  \n",
      " 6   inflation   167 non-null    float64\n",
      " 7   life_expec  167 non-null    float64\n",
      " 8   total_fer   167 non-null    float64\n",
      " 9   gdpp        167 non-null    int64  \n",
      "dtypes: float64(7), int64(2), object(1)\n",
      "memory usage: 13.2+ KB\n"
     ]
    }
   ],
   "source": [
    "cd.info()"
   ]
  },
  {
   "cell_type": "code",
   "execution_count": 183,
   "id": "cbf68bea",
   "metadata": {},
   "outputs": [
    {
     "data": {
      "text/plain": [
       "country       0\n",
       "child_mort    0\n",
       "exports       0\n",
       "health        0\n",
       "imports       0\n",
       "income        0\n",
       "inflation     0\n",
       "life_expec    0\n",
       "total_fer     0\n",
       "gdpp          0\n",
       "dtype: int64"
      ]
     },
     "execution_count": 183,
     "metadata": {},
     "output_type": "execute_result"
    }
   ],
   "source": [
    "cd.isnull().sum()"
   ]
  },
  {
   "cell_type": "code",
   "execution_count": 184,
   "id": "904fb1e8",
   "metadata": {},
   "outputs": [
    {
     "data": {
      "text/plain": [
       "<Figure size 720x720 with 0 Axes>"
      ]
     },
     "execution_count": 184,
     "metadata": {},
     "output_type": "execute_result"
    },
    {
     "data": {
      "image/png": "[encoded data removed]",
      "text/plain": [
       "<Figure size 360x360 with 1 Axes>"
      ]
     },
     "metadata": {
      "needs_background": "light"
     },
     "output_type": "display_data"
    },
    {
     "data": {
      "text/plain": [
       "<Figure size 720x720 with 0 Axes>"
      ]
     },
     "metadata": {},
     "output_type": "display_data"
    }
   ],
   "source": [
    "sns.catplot(x='country',y='gdpp',data=cd)\n",
    "plt.figure(figsize=(10,10))"
   ]
  },
  {
   "cell_type": "code",
   "execution_count": 185,
   "id": "bc5012fb",
   "metadata": {},
   "outputs": [
    {
     "data": {
      "text/plain": [
       "<Figure size 720x720 with 0 Axes>"
      ]
     },
     "execution_count": 185,
     "metadata": {},
     "output_type": "execute_result"
    },
    {
     "data": {
      "image/png": "[encoded data removed]",
      "text/plain": [
       "<Figure size 360x360 with 1 Axes>"
      ]
     },
     "metadata": {
      "needs_background": "light"
     },
     "output_type": "display_data"
    },
    {
     "data": {
      "text/plain": [
       "<Figure size 720x720 with 0 Axes>"
      ]
     },
     "metadata": {},
     "output_type": "display_data"
    }
   ],
   "source": [
    "sns.catplot(x='country',y='inflation',data=cd)\n",
    "plt.figure(figsize=(10,10))"
   ]
  },
  {
   "cell_type": "code",
   "execution_count": 186,
   "id": "dc696d55",
   "metadata": {},
   "outputs": [
    {
     "data": {
      "text/plain": [
       "<Figure size 720x720 with 0 Axes>"
      ]
     },
     "execution_count": 186,
     "metadata": {},
     "output_type": "execute_result"
    },
    {
     "data": {
      "image/png": "[encoded data removed]",
      "text/plain": [
       "<Figure size 360x360 with 1 Axes>"
      ]
     },
     "metadata": {
      "needs_background": "light"
     },
     "output_type": "display_data"
    },
    {
     "data": {
      "text/plain": [
       "<Figure size 720x720 with 0 Axes>"
      ]
     },
     "metadata": {},
     "output_type": "display_data"
    }
   ],
   "source": [
    "sns.catplot(x='country',y='health',data=cd)\n",
    "plt.figure(figsize=(10,10))"
   ]
  },
  {
   "cell_type": "code",
   "execution_count": 187,
   "id": "fd2ba5bb",
   "metadata": {},
   "outputs": [
    {
     "data": {
      "text/plain": [
       "<Figure size 720x720 with 0 Axes>"
      ]
     },
     "execution_count": 187,
     "metadata": {},
     "output_type": "execute_result"
    },
    {
     "data": {
      "image/png": "[encoded data removed]",
      "text/plain": [
       "<Figure size 360x360 with 1 Axes>"
      ]
     },
     "metadata": {
      "needs_background": "light"
     },
     "output_type": "display_data"
    },
    {
     "data": {
      "text/plain": [
       "<Figure size 720x720 with 0 Axes>"
      ]
     },
     "metadata": {},
     "output_type": "display_data"
    }
   ],
   "source": [
    "sns.catplot(x='country',y='child_mort',data=cd)\n",
    "plt.figure(figsize=(10,10))"
   ]
  },
  {
   "cell_type": "code",
   "execution_count": 188,
   "id": "77a1ae58",
   "metadata": {},
   "outputs": [
    {
     "data": {
      "image/png": "[encoded data removed]",
      "text/plain": [
       "<Figure size 1440x1440 with 2 Axes>"
      ]
     },
     "metadata": {
      "needs_background": "light"
     },
     "output_type": "display_data"
    }
   ],
   "source": [
    "plt.figure(figsize=(20,20))\n",
    "cor=cd.drop(['country'],axis=1).corr()\n",
    "sns.heatmap(cor,annot=True,cmap=plt.cm.CMRmap_r)\n",
    "plt.show()"
   ]
  },
  {
   "cell_type": "code",
   "execution_count": 189,
   "id": "cf1d72c1",
   "metadata": {},
   "outputs": [],
   "source": [
    "cd=cd.drop(['country'],axis=1)"
   ]
  },
  {
   "cell_type": "code",
   "execution_count": 190,
   "id": "1c86a58f",
   "metadata": {},
   "outputs": [],
   "source": [
    "from sklearn.preprocessing import MinMaxScaler\n",
    "m=MinMaxScaler()"
   ]
  },
  {
   "cell_type": "code",
   "execution_count": 191,
   "id": "fffb0271",
   "metadata": {},
   "outputs": [],
   "source": [
    "objLis = cd.select_dtypes(exclude = \"object\").columns"
   ]
  },
  {
   "cell_type": "code",
   "execution_count": 192,
   "id": "59a701af",
   "metadata": {},
   "outputs": [],
   "source": [
    "for feat in objLis:\n",
    "    cd[feat] = m.fit_transform(cd[feat].to_numpy().reshape(-1,1))"
   ]
  },
  {
   "cell_type": "code",
   "execution_count": 193,
   "id": "1ad64d5f",
   "metadata": {},
   "outputs": [
    {
     "data": {
      "text/html": [
       "<div>\n",
       "<style scoped>\n",
       "    .dataframe tbody tr th:only-of-type {\n",
       "        vertical-align: middle;\n",
       "    }\n",
       "\n",
       "    .dataframe tbody tr th {\n",
       "        vertical-align: top;\n",
       "    }\n",
       "\n",
       "    .dataframe thead th {\n",
       "        text-align: right;\n",
       "    }\n",
       "</style>\n",
       "<table border=\"1\" class=\"dataframe\">\n",
       "  <thead>\n",
       "    <tr style=\"text-align: right;\">\n",
       "      <th></th>\n",
       "      <th>child_mort</th>\n",
       "      <th>exports</th>\n",
       "      <th>health</th>\n",
       "      <th>imports</th>\n",
       "      <th>income</th>\n",
       "      <th>inflation</th>\n",
       "      <th>life_expec</th>\n",
       "      <th>total_fer</th>\n",
       "      <th>gdpp</th>\n",
       "    </tr>\n",
       "  </thead>\n",
       "  <tbody>\n",
       "    <tr>\n",
       "      <th>0</th>\n",
       "      <td>0.426485</td>\n",
       "      <td>0.049482</td>\n",
       "      <td>0.358608</td>\n",
       "      <td>0.257765</td>\n",
       "      <td>0.008047</td>\n",
       "      <td>0.126144</td>\n",
       "      <td>0.475345</td>\n",
       "      <td>0.736593</td>\n",
       "      <td>0.003073</td>\n",
       "    </tr>\n",
       "    <tr>\n",
       "      <th>1</th>\n",
       "      <td>0.068160</td>\n",
       "      <td>0.139531</td>\n",
       "      <td>0.294593</td>\n",
       "      <td>0.279037</td>\n",
       "      <td>0.074933</td>\n",
       "      <td>0.080399</td>\n",
       "      <td>0.871795</td>\n",
       "      <td>0.078864</td>\n",
       "      <td>0.036833</td>\n",
       "    </tr>\n",
       "    <tr>\n",
       "      <th>2</th>\n",
       "      <td>0.120253</td>\n",
       "      <td>0.191559</td>\n",
       "      <td>0.146675</td>\n",
       "      <td>0.180149</td>\n",
       "      <td>0.098809</td>\n",
       "      <td>0.187691</td>\n",
       "      <td>0.875740</td>\n",
       "      <td>0.274448</td>\n",
       "      <td>0.040365</td>\n",
       "    </tr>\n",
       "    <tr>\n",
       "      <th>3</th>\n",
       "      <td>0.566699</td>\n",
       "      <td>0.311125</td>\n",
       "      <td>0.064636</td>\n",
       "      <td>0.246266</td>\n",
       "      <td>0.042535</td>\n",
       "      <td>0.245911</td>\n",
       "      <td>0.552268</td>\n",
       "      <td>0.790221</td>\n",
       "      <td>0.031488</td>\n",
       "    </tr>\n",
       "    <tr>\n",
       "      <th>4</th>\n",
       "      <td>0.037488</td>\n",
       "      <td>0.227079</td>\n",
       "      <td>0.262275</td>\n",
       "      <td>0.338255</td>\n",
       "      <td>0.148652</td>\n",
       "      <td>0.052213</td>\n",
       "      <td>0.881657</td>\n",
       "      <td>0.154574</td>\n",
       "      <td>0.114242</td>\n",
       "    </tr>\n",
       "    <tr>\n",
       "      <th>...</th>\n",
       "      <td>...</td>\n",
       "      <td>...</td>\n",
       "      <td>...</td>\n",
       "      <td>...</td>\n",
       "      <td>...</td>\n",
       "      <td>...</td>\n",
       "      <td>...</td>\n",
       "      <td>...</td>\n",
       "      <td>...</td>\n",
       "    </tr>\n",
       "    <tr>\n",
       "      <th>162</th>\n",
       "      <td>0.129503</td>\n",
       "      <td>0.232582</td>\n",
       "      <td>0.213797</td>\n",
       "      <td>0.302609</td>\n",
       "      <td>0.018820</td>\n",
       "      <td>0.063118</td>\n",
       "      <td>0.609467</td>\n",
       "      <td>0.370662</td>\n",
       "      <td>0.026143</td>\n",
       "    </tr>\n",
       "    <tr>\n",
       "      <th>163</th>\n",
       "      <td>0.070594</td>\n",
       "      <td>0.142032</td>\n",
       "      <td>0.192666</td>\n",
       "      <td>0.100809</td>\n",
       "      <td>0.127750</td>\n",
       "      <td>0.463081</td>\n",
       "      <td>0.854043</td>\n",
       "      <td>0.208202</td>\n",
       "      <td>0.126650</td>\n",
       "    </tr>\n",
       "    <tr>\n",
       "      <th>164</th>\n",
       "      <td>0.100779</td>\n",
       "      <td>0.359651</td>\n",
       "      <td>0.312617</td>\n",
       "      <td>0.460715</td>\n",
       "      <td>0.031200</td>\n",
       "      <td>0.150725</td>\n",
       "      <td>0.808679</td>\n",
       "      <td>0.126183</td>\n",
       "      <td>0.010299</td>\n",
       "    </tr>\n",
       "    <tr>\n",
       "      <th>165</th>\n",
       "      <td>0.261441</td>\n",
       "      <td>0.149536</td>\n",
       "      <td>0.209447</td>\n",
       "      <td>0.197397</td>\n",
       "      <td>0.031120</td>\n",
       "      <td>0.257000</td>\n",
       "      <td>0.698225</td>\n",
       "      <td>0.555205</td>\n",
       "      <td>0.010299</td>\n",
       "    </tr>\n",
       "    <tr>\n",
       "      <th>166</th>\n",
       "      <td>0.391918</td>\n",
       "      <td>0.184556</td>\n",
       "      <td>0.253574</td>\n",
       "      <td>0.177275</td>\n",
       "      <td>0.021473</td>\n",
       "      <td>0.168284</td>\n",
       "      <td>0.392505</td>\n",
       "      <td>0.670347</td>\n",
       "      <td>0.011731</td>\n",
       "    </tr>\n",
       "  </tbody>\n",
       "</table>\n",
       "<p>167 rows × 9 columns</p>\n",
       "</div>"
      ],
      "text/plain": [
       "     child_mort   exports    health   imports    income  inflation  \\\n",
       "0      0.426485  0.049482  0.358608  0.257765  0.008047   0.126144   \n",
       "1      0.068160  0.139531  0.294593  0.279037  0.074933   0.080399   \n",
       "2      0.120253  0.191559  0.146675  0.180149  0.098809   0.187691   \n",
       "3      0.566699  0.311125  0.064636  0.246266  0.042535   0.245911   \n",
       "4      0.037488  0.227079  0.262275  0.338255  0.148652   0.052213   \n",
       "..          ...       ...       ...       ...       ...        ...   \n",
       "162    0.129503  0.232582  0.213797  0.302609  0.018820   0.063118   \n",
       "163    0.070594  0.142032  0.192666  0.100809  0.127750   0.463081   \n",
       "164    0.100779  0.359651  0.312617  0.460715  0.031200   0.150725   \n",
       "165    0.261441  0.149536  0.209447  0.197397  0.031120   0.257000   \n",
       "166    0.391918  0.184556  0.253574  0.177275  0.021473   0.168284   \n",
       "\n",
       "     life_expec  total_fer      gdpp  \n",
       "0      0.475345   0.736593  0.003073  \n",
       "1      0.871795   0.078864  0.036833  \n",
       "2      0.875740   0.274448  0.040365  \n",
       "3      0.552268   0.790221  0.031488  \n",
       "4      0.881657   0.154574  0.114242  \n",
       "..          ...        ...       ...  \n",
       "162    0.609467   0.370662  0.026143  \n",
       "163    0.854043   0.208202  0.126650  \n",
       "164    0.808679   0.126183  0.010299  \n",
       "165    0.698225   0.555205  0.010299  \n",
       "166    0.392505   0.670347  0.011731  \n",
       "\n",
       "[167 rows x 9 columns]"
      ]
     },
     "execution_count": 193,
     "metadata": {},
     "output_type": "execute_result"
    }
   ],
   "source": [
    "cd"
   ]
  },
  {
   "cell_type": "code",
   "execution_count": 194,
   "id": "ab7a9079",
   "metadata": {},
   "outputs": [],
   "source": [
    "def correlation(dataset, threshold):\n",
    "    col_corr = set()  # Set of all the names of correlated columns\n",
    "    corr_matrix = dataset.corr()\n",
    "    for i in range(len(corr_matrix.columns)):\n",
    "        for j in range(i):\n",
    "            if abs(corr_matrix.iloc[i, j]) > threshold: # we are interested in absolute coeff value\n",
    "                colname = corr_matrix.columns[i]  # getting the name of column\n",
    "                col_corr.add(colname)\n",
    "    return col_corr"
   ]
  },
  {
   "cell_type": "code",
   "execution_count": 195,
   "id": "b3625d60",
   "metadata": {},
   "outputs": [
    {
     "data": {
      "text/plain": [
       "4"
      ]
     },
     "execution_count": 195,
     "metadata": {},
     "output_type": "execute_result"
    }
   ],
   "source": [
    "corr_features = correlation(cd, 0.70)\n",
    "len(set(corr_features))"
   ]
  },
  {
   "cell_type": "code",
   "execution_count": 196,
   "id": "1ff276b9",
   "metadata": {},
   "outputs": [],
   "source": [
    "cd=cd.drop(corr_features,axis=1)"
   ]
  },
  {
   "cell_type": "code",
   "execution_count": 197,
   "id": "e93872ac",
   "metadata": {},
   "outputs": [
    {
     "data": {
      "text/html": [
       "<div>\n",
       "<style scoped>\n",
       "    .dataframe tbody tr th:only-of-type {\n",
       "        vertical-align: middle;\n",
       "    }\n",
       "\n",
       "    .dataframe tbody tr th {\n",
       "        vertical-align: top;\n",
       "    }\n",
       "\n",
       "    .dataframe thead th {\n",
       "        text-align: right;\n",
       "    }\n",
       "</style>\n",
       "<table border=\"1\" class=\"dataframe\">\n",
       "  <thead>\n",
       "    <tr style=\"text-align: right;\">\n",
       "      <th></th>\n",
       "      <th>child_mort</th>\n",
       "      <th>exports</th>\n",
       "      <th>health</th>\n",
       "      <th>income</th>\n",
       "      <th>inflation</th>\n",
       "    </tr>\n",
       "  </thead>\n",
       "  <tbody>\n",
       "    <tr>\n",
       "      <th>0</th>\n",
       "      <td>0.426485</td>\n",
       "      <td>0.049482</td>\n",
       "      <td>0.358608</td>\n",
       "      <td>0.008047</td>\n",
       "      <td>0.126144</td>\n",
       "    </tr>\n",
       "    <tr>\n",
       "      <th>1</th>\n",
       "      <td>0.068160</td>\n",
       "      <td>0.139531</td>\n",
       "      <td>0.294593</td>\n",
       "      <td>0.074933</td>\n",
       "      <td>0.080399</td>\n",
       "    </tr>\n",
       "    <tr>\n",
       "      <th>2</th>\n",
       "      <td>0.120253</td>\n",
       "      <td>0.191559</td>\n",
       "      <td>0.146675</td>\n",
       "      <td>0.098809</td>\n",
       "      <td>0.187691</td>\n",
       "    </tr>\n",
       "    <tr>\n",
       "      <th>3</th>\n",
       "      <td>0.566699</td>\n",
       "      <td>0.311125</td>\n",
       "      <td>0.064636</td>\n",
       "      <td>0.042535</td>\n",
       "      <td>0.245911</td>\n",
       "    </tr>\n",
       "    <tr>\n",
       "      <th>4</th>\n",
       "      <td>0.037488</td>\n",
       "      <td>0.227079</td>\n",
       "      <td>0.262275</td>\n",
       "      <td>0.148652</td>\n",
       "      <td>0.052213</td>\n",
       "    </tr>\n",
       "    <tr>\n",
       "      <th>...</th>\n",
       "      <td>...</td>\n",
       "      <td>...</td>\n",
       "      <td>...</td>\n",
       "      <td>...</td>\n",
       "      <td>...</td>\n",
       "    </tr>\n",
       "    <tr>\n",
       "      <th>162</th>\n",
       "      <td>0.129503</td>\n",
       "      <td>0.232582</td>\n",
       "      <td>0.213797</td>\n",
       "      <td>0.018820</td>\n",
       "      <td>0.063118</td>\n",
       "    </tr>\n",
       "    <tr>\n",
       "      <th>163</th>\n",
       "      <td>0.070594</td>\n",
       "      <td>0.142032</td>\n",
       "      <td>0.192666</td>\n",
       "      <td>0.127750</td>\n",
       "      <td>0.463081</td>\n",
       "    </tr>\n",
       "    <tr>\n",
       "      <th>164</th>\n",
       "      <td>0.100779</td>\n",
       "      <td>0.359651</td>\n",
       "      <td>0.312617</td>\n",
       "      <td>0.031200</td>\n",
       "      <td>0.150725</td>\n",
       "    </tr>\n",
       "    <tr>\n",
       "      <th>165</th>\n",
       "      <td>0.261441</td>\n",
       "      <td>0.149536</td>\n",
       "      <td>0.209447</td>\n",
       "      <td>0.031120</td>\n",
       "      <td>0.257000</td>\n",
       "    </tr>\n",
       "    <tr>\n",
       "      <th>166</th>\n",
       "      <td>0.391918</td>\n",
       "      <td>0.184556</td>\n",
       "      <td>0.253574</td>\n",
       "      <td>0.021473</td>\n",
       "      <td>0.168284</td>\n",
       "    </tr>\n",
       "  </tbody>\n",
       "</table>\n",
       "<p>167 rows × 5 columns</p>\n",
       "</div>"
      ],
      "text/plain": [
       "     child_mort   exports    health    income  inflation\n",
       "0      0.426485  0.049482  0.358608  0.008047   0.126144\n",
       "1      0.068160  0.139531  0.294593  0.074933   0.080399\n",
       "2      0.120253  0.191559  0.146675  0.098809   0.187691\n",
       "3      0.566699  0.311125  0.064636  0.042535   0.245911\n",
       "4      0.037488  0.227079  0.262275  0.148652   0.052213\n",
       "..          ...       ...       ...       ...        ...\n",
       "162    0.129503  0.232582  0.213797  0.018820   0.063118\n",
       "163    0.070594  0.142032  0.192666  0.127750   0.463081\n",
       "164    0.100779  0.359651  0.312617  0.031200   0.150725\n",
       "165    0.261441  0.149536  0.209447  0.031120   0.257000\n",
       "166    0.391918  0.184556  0.253574  0.021473   0.168284\n",
       "\n",
       "[167 rows x 5 columns]"
      ]
     },
     "execution_count": 197,
     "metadata": {},
     "output_type": "execute_result"
    }
   ],
   "source": [
    "cd"
   ]
  },
  {
   "cell_type": "code",
   "execution_count": 198,
   "id": "11e21b84",
   "metadata": {},
   "outputs": [
    {
     "name": "stderr",
     "output_type": "stream",
     "text": [
      "C:\\Users\\rabhi\\anaconda3\\lib\\site-packages\\sklearn\\cluster\\_kmeans.py:881: UserWarning: KMeans is known to have a memory leak on Windows with MKL, when there are less chunks than available threads. You can avoid it by setting the environment variable OMP_NUM_THREADS=1.\n",
      "  warnings.warn(\n"
     ]
    }
   ],
   "source": [
    "from sklearn.cluster import KMeans\n",
    "l=[]\n",
    "for i in range(1,11):\n",
    "    kmeans=KMeans(n_clusters=i, init=\"k-means++\",random_state=0)\n",
    "    kmeans.fit(cd)\n",
    "    l.append(kmeans.inertia_)"
   ]
  },
  {
   "cell_type": "code",
   "execution_count": 199,
   "id": "c8f388c2",
   "metadata": {},
   "outputs": [
    {
     "data": {
      "image/png": "[encoded data removed]",
      "text/plain": [
       "<Figure size 864x432 with 1 Axes>"
      ]
     },
     "metadata": {
      "needs_background": "light"
     },
     "output_type": "display_data"
    }
   ],
   "source": [
    "plt.plot(range(1,11),l)\n",
    "plt.xlabel('No of Clusters')\n",
    "plt.ylabel('Wcss')\n",
    "plt.title('Elbow Method')\n",
    "plt.show()"
   ]
  },
  {
   "cell_type": "code",
   "execution_count": 200,
   "id": "7949a489",
   "metadata": {},
   "outputs": [],
   "source": [
    "kmeansmodel=KMeans(n_clusters=5, init=\"k-means++\", random_state=0)\n",
    "y_kmeans=kmeansmodel.fit_predict(cd)"
   ]
  },
  {
   "cell_type": "code",
   "execution_count": 201,
   "id": "464fdfcf",
   "metadata": {},
   "outputs": [
    {
     "data": {
      "image/png": "[encoded data removed]",
      "text/plain": [
       "<Figure size 864x432 with 1 Axes>"
      ]
     },
     "metadata": {
      "needs_background": "light"
     },
     "output_type": "display_data"
    }
   ],
   "source": [
    "from sklearn.decomposition import PCA\n",
    "#pca=PCA(2)\n",
    "#X=pca.fit_transform(cd)\n",
    "pca = PCA().fit(cd)\n",
    "\n",
    "plt.rcParams[\"figure.figsize\"] = (12,6)\n",
    "\n",
    "fig, ax = plt.subplots()\n",
    "xi = np.arange(1, 6, step=1)\n",
    "y = np.cumsum(pca.explained_variance_ratio_)\n",
    "\n",
    "plt.ylim(0.0,1.1)\n",
    "plt.plot(xi, y, marker='o', linestyle='--', color='b')\n",
    "\n",
    "plt.xlabel('Number of Components')\n",
    "plt.xticks(np.arange(0, 6, step=1)) #change from 0-based array index to 1-based human-readable label\n",
    "plt.ylabel('Cumulative variance (%)')\n",
    "plt.title('The number of components needed to explain variance')\n",
    "\n",
    "plt.axhline(y=0.95, color='r', linestyle='-')\n",
    "plt.text(0.5, 0.85, '95% cut-off threshold', color = 'red', fontsize=16)\n",
    "\n",
    "ax.grid(axis='x')\n",
    "plt.show()"
   ]
  },
  {
   "cell_type": "code",
   "execution_count": 202,
   "id": "22b3d34c",
   "metadata": {},
   "outputs": [],
   "source": [
    "pca1=PCA(4)\n",
    "X=pca1.fit_transform(cd)"
   ]
  },
  {
   "cell_type": "code",
   "execution_count": 203,
   "id": "f6afa6f7",
   "metadata": {},
   "outputs": [
    {
     "data": {
      "text/html": [
       "<div>\n",
       "<style scoped>\n",
       "    .dataframe tbody tr th:only-of-type {\n",
       "        vertical-align: middle;\n",
       "    }\n",
       "\n",
       "    .dataframe tbody tr th {\n",
       "        vertical-align: top;\n",
       "    }\n",
       "\n",
       "    .dataframe thead th {\n",
       "        text-align: right;\n",
       "    }\n",
       "</style>\n",
       "<table border=\"1\" class=\"dataframe\">\n",
       "  <thead>\n",
       "    <tr style=\"text-align: right;\">\n",
       "      <th></th>\n",
       "      <th>PC-1</th>\n",
       "      <th>PC-2</th>\n",
       "      <th>PC-3</th>\n",
       "      <th>PC-4</th>\n",
       "    </tr>\n",
       "  </thead>\n",
       "  <tbody>\n",
       "    <tr>\n",
       "      <th>child_mort</th>\n",
       "      <td>0.749323</td>\n",
       "      <td>0.012087</td>\n",
       "      <td>0.635622</td>\n",
       "      <td>0.032102</td>\n",
       "    </tr>\n",
       "    <tr>\n",
       "      <th>exports</th>\n",
       "      <td>-0.309922</td>\n",
       "      <td>-0.396380</td>\n",
       "      <td>0.503825</td>\n",
       "      <td>-0.609418</td>\n",
       "    </tr>\n",
       "    <tr>\n",
       "      <th>health</th>\n",
       "      <td>-0.242668</td>\n",
       "      <td>0.886468</td>\n",
       "      <td>0.331073</td>\n",
       "      <td>-0.062515</td>\n",
       "    </tr>\n",
       "    <tr>\n",
       "      <th>income</th>\n",
       "      <td>-0.512421</td>\n",
       "      <td>-0.199421</td>\n",
       "      <td>0.480258</td>\n",
       "      <td>0.592723</td>\n",
       "    </tr>\n",
       "    <tr>\n",
       "      <th>inflation</th>\n",
       "      <td>0.144916</td>\n",
       "      <td>-0.130932</td>\n",
       "      <td>0.043444</td>\n",
       "      <td>0.521872</td>\n",
       "    </tr>\n",
       "  </tbody>\n",
       "</table>\n",
       "</div>"
      ],
      "text/plain": [
       "                PC-1      PC-2      PC-3      PC-4\n",
       "child_mort  0.749323  0.012087  0.635622  0.032102\n",
       "exports    -0.309922 -0.396380  0.503825 -0.609418\n",
       "health     -0.242668  0.886468  0.331073 -0.062515\n",
       "income     -0.512421 -0.199421  0.480258  0.592723\n",
       "inflation   0.144916 -0.130932  0.043444  0.521872"
      ]
     },
     "execution_count": 203,
     "metadata": {},
     "output_type": "execute_result"
    }
   ],
   "source": [
    "pd.DataFrame(pca1.components_.T, index=['child_mort','exports','health','income','inflation'], columns =['PC-1', 'PC-2','PC-3','PC-4'])"
   ]
  },
  {
   "cell_type": "code",
   "execution_count": 204,
   "id": "49806a75",
   "metadata": {},
   "outputs": [
    {
     "data": {
      "image/png": "[encoded data removed]",
      "text/plain": [
       "<Figure size 864x432 with 1 Axes>"
      ]
     },
     "metadata": {
      "needs_background": "light"
     },
     "output_type": "display_data"
    }
   ],
   "source": [
    "plt.scatter(X[y_kmeans == 0, 0], X[y_kmeans == 0, 1], s = 100, c = 'red', label = 'Cluster 0')\n",
    "plt.scatter(X[y_kmeans == 1, 0], X[y_kmeans == 1, 1], s = 100, c = 'blue', label = 'Cluster 1')\n",
    "plt.scatter(X[y_kmeans == 2, 0], X[y_kmeans == 2, 1], s = 100, c = 'grey', label = 'Cluster 2')\n",
    "plt.scatter(X[y_kmeans == 3, 0], X[y_kmeans == 3, 1], s = 100, c = 'orange', label = 'Cluster 3')\n",
    "plt.scatter(X[y_kmeans == 4, 0], X[y_kmeans == 4, 1], s = 100, c = 'cyan', label = 'Cluster 4')\n",
    "plt.scatter(kmeans.cluster_centers_[:, 0], kmeans.cluster_centers_[:, 1], s = 300, c = 'yellow', label = 'Centroids')\n",
    "plt.title('Countries')\n",
    "plt.legend()\n",
    "plt.show()"
   ]
  },
  {
   "cell_type": "code",
   "execution_count": 210,
   "id": "466762dd",
   "metadata": {},
   "outputs": [
    {
     "data": {
      "text/html": [
       "<div>\n",
       "<style scoped>\n",
       "    .dataframe tbody tr th:only-of-type {\n",
       "        vertical-align: middle;\n",
       "    }\n",
       "\n",
       "    .dataframe tbody tr th {\n",
       "        vertical-align: top;\n",
       "    }\n",
       "\n",
       "    .dataframe thead th {\n",
       "        text-align: right;\n",
       "    }\n",
       "</style>\n",
       "<table border=\"1\" class=\"dataframe\">\n",
       "  <thead>\n",
       "    <tr style=\"text-align: right;\">\n",
       "      <th></th>\n",
       "      <th>child_mort</th>\n",
       "      <th>exports</th>\n",
       "      <th>health</th>\n",
       "      <th>income</th>\n",
       "      <th>inflation</th>\n",
       "      <th>Cluster</th>\n",
       "      <th>Cluster Centroid D1</th>\n",
       "      <th>Cluster Centroid D2</th>\n",
       "      <th>country</th>\n",
       "    </tr>\n",
       "  </thead>\n",
       "  <tbody>\n",
       "    <tr>\n",
       "      <th>0</th>\n",
       "      <td>0.426485</td>\n",
       "      <td>0.049482</td>\n",
       "      <td>0.358608</td>\n",
       "      <td>0.008047</td>\n",
       "      <td>0.126144</td>\n",
       "      <td>4</td>\n",
       "      <td>0.474871</td>\n",
       "      <td>0.121061</td>\n",
       "      <td>Afghanistan</td>\n",
       "    </tr>\n",
       "    <tr>\n",
       "      <th>1</th>\n",
       "      <td>0.068160</td>\n",
       "      <td>0.139531</td>\n",
       "      <td>0.294593</td>\n",
       "      <td>0.074933</td>\n",
       "      <td>0.080399</td>\n",
       "      <td>0</td>\n",
       "      <td>0.260145</td>\n",
       "      <td>0.108423</td>\n",
       "      <td>Albania</td>\n",
       "    </tr>\n",
       "    <tr>\n",
       "      <th>2</th>\n",
       "      <td>0.120253</td>\n",
       "      <td>0.191559</td>\n",
       "      <td>0.146675</td>\n",
       "      <td>0.098809</td>\n",
       "      <td>0.187691</td>\n",
       "      <td>0</td>\n",
       "      <td>0.260145</td>\n",
       "      <td>0.108423</td>\n",
       "      <td>Algeria</td>\n",
       "    </tr>\n",
       "    <tr>\n",
       "      <th>3</th>\n",
       "      <td>0.566699</td>\n",
       "      <td>0.311125</td>\n",
       "      <td>0.064636</td>\n",
       "      <td>0.042535</td>\n",
       "      <td>0.245911</td>\n",
       "      <td>1</td>\n",
       "      <td>0.168570</td>\n",
       "      <td>0.159192</td>\n",
       "      <td>Angola</td>\n",
       "    </tr>\n",
       "    <tr>\n",
       "      <th>4</th>\n",
       "      <td>0.037488</td>\n",
       "      <td>0.227079</td>\n",
       "      <td>0.262275</td>\n",
       "      <td>0.148652</td>\n",
       "      <td>0.052213</td>\n",
       "      <td>0</td>\n",
       "      <td>0.260145</td>\n",
       "      <td>0.108423</td>\n",
       "      <td>Antigua and Barbuda</td>\n",
       "    </tr>\n",
       "    <tr>\n",
       "      <th>...</th>\n",
       "      <td>...</td>\n",
       "      <td>...</td>\n",
       "      <td>...</td>\n",
       "      <td>...</td>\n",
       "      <td>...</td>\n",
       "      <td>...</td>\n",
       "      <td>...</td>\n",
       "      <td>...</td>\n",
       "      <td>...</td>\n",
       "    </tr>\n",
       "    <tr>\n",
       "      <th>162</th>\n",
       "      <td>0.129503</td>\n",
       "      <td>0.232582</td>\n",
       "      <td>0.213797</td>\n",
       "      <td>0.018820</td>\n",
       "      <td>0.063118</td>\n",
       "      <td>0</td>\n",
       "      <td>0.260145</td>\n",
       "      <td>0.108423</td>\n",
       "      <td>Vanuatu</td>\n",
       "    </tr>\n",
       "    <tr>\n",
       "      <th>163</th>\n",
       "      <td>0.070594</td>\n",
       "      <td>0.142032</td>\n",
       "      <td>0.192666</td>\n",
       "      <td>0.127750</td>\n",
       "      <td>0.463081</td>\n",
       "      <td>0</td>\n",
       "      <td>0.260145</td>\n",
       "      <td>0.108423</td>\n",
       "      <td>Venezuela</td>\n",
       "    </tr>\n",
       "    <tr>\n",
       "      <th>164</th>\n",
       "      <td>0.100779</td>\n",
       "      <td>0.359651</td>\n",
       "      <td>0.312617</td>\n",
       "      <td>0.031200</td>\n",
       "      <td>0.150725</td>\n",
       "      <td>0</td>\n",
       "      <td>0.260145</td>\n",
       "      <td>0.108423</td>\n",
       "      <td>Vietnam</td>\n",
       "    </tr>\n",
       "    <tr>\n",
       "      <th>165</th>\n",
       "      <td>0.261441</td>\n",
       "      <td>0.149536</td>\n",
       "      <td>0.209447</td>\n",
       "      <td>0.031120</td>\n",
       "      <td>0.257000</td>\n",
       "      <td>1</td>\n",
       "      <td>0.168570</td>\n",
       "      <td>0.159192</td>\n",
       "      <td>Yemen</td>\n",
       "    </tr>\n",
       "    <tr>\n",
       "      <th>166</th>\n",
       "      <td>0.391918</td>\n",
       "      <td>0.184556</td>\n",
       "      <td>0.253574</td>\n",
       "      <td>0.021473</td>\n",
       "      <td>0.168284</td>\n",
       "      <td>1</td>\n",
       "      <td>0.168570</td>\n",
       "      <td>0.159192</td>\n",
       "      <td>Zambia</td>\n",
       "    </tr>\n",
       "  </tbody>\n",
       "</table>\n",
       "<p>167 rows × 9 columns</p>\n",
       "</div>"
      ],
      "text/plain": [
       "     child_mort   exports    health    income  inflation  Cluster  \\\n",
       "0      0.426485  0.049482  0.358608  0.008047   0.126144        4   \n",
       "1      0.068160  0.139531  0.294593  0.074933   0.080399        0   \n",
       "2      0.120253  0.191559  0.146675  0.098809   0.187691        0   \n",
       "3      0.566699  0.311125  0.064636  0.042535   0.245911        1   \n",
       "4      0.037488  0.227079  0.262275  0.148652   0.052213        0   \n",
       "..          ...       ...       ...       ...        ...      ...   \n",
       "162    0.129503  0.232582  0.213797  0.018820   0.063118        0   \n",
       "163    0.070594  0.142032  0.192666  0.127750   0.463081        0   \n",
       "164    0.100779  0.359651  0.312617  0.031200   0.150725        0   \n",
       "165    0.261441  0.149536  0.209447  0.031120   0.257000        1   \n",
       "166    0.391918  0.184556  0.253574  0.021473   0.168284        1   \n",
       "\n",
       "     Cluster Centroid D1  Cluster Centroid D2              country  \n",
       "0               0.474871             0.121061          Afghanistan  \n",
       "1               0.260145             0.108423              Albania  \n",
       "2               0.260145             0.108423              Algeria  \n",
       "3               0.168570             0.159192               Angola  \n",
       "4               0.260145             0.108423  Antigua and Barbuda  \n",
       "..                   ...                  ...                  ...  \n",
       "162             0.260145             0.108423              Vanuatu  \n",
       "163             0.260145             0.108423            Venezuela  \n",
       "164             0.260145             0.108423              Vietnam  \n",
       "165             0.168570             0.159192                Yemen  \n",
       "166             0.168570             0.159192               Zambia  \n",
       "\n",
       "[167 rows x 9 columns]"
      ]
     },
     "execution_count": 210,
     "metadata": {},
     "output_type": "execute_result"
    }
   ],
   "source": [
    "kms = KMeans(n_clusters=5, random_state=1).fit(cd[['health', 'inflation','income','child_mort','exports']])\n",
    "cd['Cluster'] = kms.labels_\n",
    "cd['Cluster Centroid D1'] = cd['Cluster'].apply(lambda label: kms.cluster_centers_[label][0])\n",
    "cd['Cluster Centroid D2'] = cd['Cluster'].apply(lambda label: kms.cluster_centers_[label][1])\n",
    "cd['country']=cd1['country']\n",
    "cd"
   ]
  },
  {
   "cell_type": "code",
   "execution_count": 211,
   "id": "ac3697c6",
   "metadata": {},
   "outputs": [],
   "source": [
    "cd.to_csv(r'C:/Users/rabhi/OneDrive/Documents/NGO_data1.csv',index=False,header=True)"
   ]
  },
  {
   "cell_type": "code",
   "execution_count": 213,
   "id": "9f97403a",
   "metadata": {},
   "outputs": [],
   "source": [
    "#Cluster 4 countries are in dire need of aid\n",
    "#Cluster 1 and Cluster 0 are next in line for aid\n",
    "#Cluster 2 and 3 countries are comparitively in less need of aid"
   ]
  },
  {
   "cell_type": "code",
   "execution_count": null,
   "id": "29e383ef",
   "metadata": {},
   "outputs": [],
   "source": []
  },
  {
   "cell_type": "code",
   "execution_count": null,
   "id": "43270f07",
   "metadata": {},
   "outputs": [],
   "source": []
  },
  {
   "cell_type": "code",
   "execution_count": null,
   "id": "f8fdf850",
   "metadata": {},
   "outputs": [],
   "source": []
  }
 ],
 "metadata": {
  "kernelspec": {
   "display_name": "Python 3 (ipykernel)",
   "language": "python",
   "name": "python3"
  },
  "language_info": {
   "codemirror_mode": {
    "name": "ipython",
    "version": 3
   },
   "file_extension": ".py",
   "mimetype": "text/x-python",
   "name": "python",
   "nbconvert_exporter": "python",
   "pygments_lexer": "ipython3",
   "version": "3.9.7"
  }
 },
 "nbformat": 4,
 "nbformat_minor": 5
}
